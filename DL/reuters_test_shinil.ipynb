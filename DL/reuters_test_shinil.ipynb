{
  "nbformat": 4,
  "nbformat_minor": 0,
  "metadata": {
    "colab": {
      "name": "reuters_test_shinil.ipynb",
      "provenance": []
    },
    "kernelspec": {
      "name": "python3",
      "display_name": "Python 3"
    },
    "language_info": {
      "name": "python"
    }
  },
  "cells": [
    {
      "cell_type": "code",
      "execution_count": 3,
      "metadata": {
        "id": "8OjTuVxR1fWp",
        "colab": {
          "base_uri": "https://localhost:8080/"
        },
        "outputId": "c47bd2c2-b3ae-43b1-84e4-497843680622"
      },
      "outputs": [
        {
          "output_type": "stream",
          "name": "stdout",
          "text": [
            "Epoch 1/10\n",
            "16/16 [==============================] - 2s 60ms/step - loss: 2.8698 - accuracy: 0.4678 - val_loss: 1.9512 - val_accuracy: 0.6320\n",
            "Epoch 2/10\n",
            "16/16 [==============================] - 1s 46ms/step - loss: 1.5561 - accuracy: 0.7002 - val_loss: 1.3535 - val_accuracy: 0.7070\n",
            "Epoch 3/10\n",
            "16/16 [==============================] - 1s 45ms/step - loss: 1.0984 - accuracy: 0.7692 - val_loss: 1.1551 - val_accuracy: 0.7620\n",
            "Epoch 4/10\n",
            "16/16 [==============================] - 1s 45ms/step - loss: 0.8503 - accuracy: 0.8222 - val_loss: 1.0323 - val_accuracy: 0.7830\n",
            "Epoch 5/10\n",
            "16/16 [==============================] - 1s 44ms/step - loss: 0.6748 - accuracy: 0.8589 - val_loss: 0.9658 - val_accuracy: 0.7950\n",
            "Epoch 6/10\n",
            "16/16 [==============================] - 1s 44ms/step - loss: 0.5407 - accuracy: 0.8884 - val_loss: 0.9154 - val_accuracy: 0.8140\n",
            "Epoch 7/10\n",
            "16/16 [==============================] - 1s 45ms/step - loss: 0.4375 - accuracy: 0.9108 - val_loss: 0.8951 - val_accuracy: 0.8160\n",
            "Epoch 8/10\n",
            "16/16 [==============================] - 1s 43ms/step - loss: 0.3582 - accuracy: 0.9245 - val_loss: 0.8803 - val_accuracy: 0.8250\n",
            "Epoch 9/10\n",
            "16/16 [==============================] - 1s 45ms/step - loss: 0.2929 - accuracy: 0.9365 - val_loss: 0.9200 - val_accuracy: 0.8200\n",
            "Epoch 10/10\n",
            "16/16 [==============================] - 1s 45ms/step - loss: 0.2500 - accuracy: 0.9431 - val_loss: 0.9193 - val_accuracy: 0.8130\n",
            "71/71 [==============================] - 0s 3ms/step - loss: 0.9908 - accuracy: 0.7894\n"
          ]
        }
      ],
      "source": [
        "from keras.datasets import reuters\n",
        "(train_data, train_labels), (test_data, test_labels) = reuters.load_data(num_words=10000)\n",
        "\n",
        "import numpy as np\n",
        "def vectorize_sequences(sequences, dimension=10000): \n",
        "  results = np.zeros((len(sequences), dimension)) \n",
        "  for i, sequence in enumerate(sequences):\n",
        "   results[i, sequence] = 1. \n",
        "  return results\n",
        "\n",
        "x_train = vectorize_sequences(train_data) \n",
        "x_test = vectorize_sequences(test_data)\n",
        "\n",
        "def to_one_hot(labels, dimension=46):\n",
        "  results = np.zeros((len(labels), dimension)) \n",
        "  for i, label in enumerate(labels):\n",
        "    results[i, label] = 1. \n",
        "  return results\n",
        "\n",
        "one_hot_train_labels = to_one_hot(train_labels) \n",
        "one_hot_test_labels = to_one_hot(test_labels)\n",
        "\n",
        "from keras import models\n",
        "from keras import layers\n",
        "\n",
        "model = models.Sequential()\n",
        "model.add(layers.Dense(64,activation='relu',input_shape=(10000,)))\n",
        "model.add(layers.Dense(64,activation='relu'))\n",
        "model.add(layers.Dense(46,activation='softmax'))\n",
        "\n",
        "model.compile(optimizer='rmsprop',\n",
        "              loss='categorical_crossentropy',\n",
        "              metrics=['accuracy'])\n",
        "\n",
        "x_val = x_train[:1000]\n",
        "partial_x_train = x_train[1000:]\n",
        "y_val = one_hot_train_labels[:1000]\n",
        "partial_y_train = one_hot_train_labels[1000:]\n",
        "\n",
        "history = model.fit(partial_x_train,\n",
        "                    partial_y_train,\n",
        "                    epochs = 10,\n",
        "                    batch_size=512,\n",
        "                    validation_data=(x_val,y_val))\n",
        "\n",
        "results = model.evaluate(x_test,one_hot_test_labels)"
      ]
    },
    {
      "cell_type": "code",
      "source": [
        "train_data[10]"
      ],
      "metadata": {
        "id": "L7rA_JFJ2rs_"
      },
      "execution_count": null,
      "outputs": []
    }
  ]
}