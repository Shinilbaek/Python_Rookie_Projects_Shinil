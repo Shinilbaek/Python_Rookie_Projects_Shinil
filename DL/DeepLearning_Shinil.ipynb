{
  "cells": [
    {
      "cell_type": "code",
      "execution_count": null,
      "metadata": {
        "colab": {
          "base_uri": "https://localhost:8080/"
        },
        "id": "wIFN0UBpiOct",
        "outputId": "1111f08a-8839-4885-bdde-960dab34685b"
      },
      "outputs": [],
      "source": [
        "import tensorflow\n",
        "print(tensorflow.__version__)"
      ]
    },
    {
      "cell_type": "code",
      "execution_count": null,
      "metadata": {
        "id": "zRBWO0JbiqDi"
      },
      "outputs": [],
      "source": [
        "from keras.datasets import mnist\n",
        "(train_images,train_labels),(test_images,test_labels) = mnist.load_data()\n",
        "print(train_images[2])"
      ]
    }
  ],
  "metadata": {
    "colab": {
      "name": "DeepLearning_Shinil.ipynb",
      "provenance": []
    },
    "kernelspec": {
      "display_name": "Python 3",
      "name": "python3"
    },
    "language_info": {
      "codemirror_mode": {
        "name": "ipython",
        "version": 3
      },
      "file_extension": ".py",
      "mimetype": "text/x-python",
      "name": "python",
      "nbconvert_exporter": "python",
      "pygments_lexer": "ipython3",
      "version": "3.9.1"
    }
  },
  "nbformat": 4,
  "nbformat_minor": 0
}
